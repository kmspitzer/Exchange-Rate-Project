{
 "cells": [
  {
   "cell_type": "markdown",
   "metadata": {},
   "source": [
    "# Inflation Data\n",
    "\n",
    "This script gathers inflation rate data using API calls to the StatBureau inflation dataset. The data for each year is saved 12 times, to simulate monthly data.  It is saved in a dataframe and sorted. The data is then written to a CSV file in the Output directory."
   ]
  },
  {
   "cell_type": "code",
   "execution_count": 1,
   "metadata": {},
   "outputs": [],
   "source": [
    "# set environment\n",
    "import pandas as pd\n",
    "import matplotlib.pyplot as plt\n",
    "import seaborn as sns\n",
    "import requests\n",
    "\n",
    "# pull in constants from config file\n",
    "from config import xchg_filename\n",
    "from config import infl_filename\n",
    "from config import base_country\n",
    "from config import countries\n"
   ]
  },
  {
   "cell_type": "code",
   "execution_count": 2,
   "metadata": {},
   "outputs": [],
   "source": [
    "country_name = []\n",
    "currency = []\n",
    "curr_code = []\n",
    "date = []\n",
    "infl_rate = []"
   ]
  },
  {
   "cell_type": "code",
   "execution_count": 3,
   "metadata": {},
   "outputs": [],
   "source": [
    "# get currency code we compared all rates to\n",
    "base_currency = base_country[\"currency_code\"]"
   ]
  },
  {
   "cell_type": "code",
   "execution_count": 4,
   "metadata": {},
   "outputs": [],
   "source": [
    "# define countries for which we will pull inflation data,\n",
    "# years we are interested in, and a list of numeric months\n",
    "inflation_countries = ['belarus', 'brazil','canada', 'european-union', 'india', 'japan', 'kazakhstan', 'mexico', 'russia', 'turkey', 'ukraine']\n",
    "years = [2014, 2015, 2016, 2017, 2018, 2019]\n",
    "months = [\"01\", \"02\", \"03\", \"04\", \"05\", \"06\", \"07\", \"08\", \"09\", \"10\", \"11\", \"12\"]\n"
   ]
  },
  {
   "cell_type": "code",
   "execution_count": 5,
   "metadata": {},
   "outputs": [
    {
     "name": "stdout",
     "output_type": "stream",
     "text": [
      "Inflation data retrieval complete.\n"
     ]
    }
   ],
   "source": [
    "# define our base url\n",
    "base_url = \"https://www.statbureau.org/calculate-inflation-rate-json\"\n",
    "\n",
    "# loop through each year for which we want data\n",
    "for year in years:\n",
    "    # loop through each of our countries\n",
    "    for country in inflation_countries:\n",
    "        # format data for get request parameter list\n",
    "        start_date = f\"{year}/1/1\"\n",
    "        end_date = f\"{year}/12/1\"\n",
    "        \n",
    "        # format our parameter list for our get request\n",
    "        params = {'country': country, 'start': start_date, 'end': end_date}\n",
    "        \n",
    "        # pull data from web\n",
    "        response = requests.get(base_url,params).json()\n",
    "        \n",
    "        # loop through each month\n",
    "        for month in months:\n",
    "            # remove and hyphens in our country name, and  capitalize\n",
    "            mod_country = country.replace(\"-\", \" \").title()\n",
    "            \n",
    "            # populate our lists with data for our dataframe\n",
    "            country_name.append(mod_country)\n",
    "            currency.append(countries[mod_country][\"currency_name\"])\n",
    "            curr_code.append(countries[mod_country][\"currency_code\"])\n",
    "            date.append(f\"{year}-{month}\")\n",
    "            infl_rate.append(response)\n",
    "            \n",
    "print(\"Inflation data retrieval complete.\")"
   ]
  },
  {
   "cell_type": "code",
   "execution_count": 7,
   "metadata": {},
   "outputs": [],
   "source": [
    "# create the dataframe\n",
    "inflation = {\"Country\": country_name, \"Currency\": currency, \"Currency Code\": curr_code, \"Date\": date, \"Inflation Rate\": infl_rate}\n",
    "inflation_df = pd.DataFrame(inflation)"
   ]
  },
  {
   "cell_type": "code",
   "execution_count": 8,
   "metadata": {},
   "outputs": [
    {
     "data": {
      "text/html": [
       "<div>\n",
       "<style scoped>\n",
       "    .dataframe tbody tr th:only-of-type {\n",
       "        vertical-align: middle;\n",
       "    }\n",
       "\n",
       "    .dataframe tbody tr th {\n",
       "        vertical-align: top;\n",
       "    }\n",
       "\n",
       "    .dataframe thead th {\n",
       "        text-align: right;\n",
       "    }\n",
       "</style>\n",
       "<table border=\"1\" class=\"dataframe\">\n",
       "  <thead>\n",
       "    <tr style=\"text-align: right;\">\n",
       "      <th></th>\n",
       "      <th>Country</th>\n",
       "      <th>Currency</th>\n",
       "      <th>Currency Code</th>\n",
       "      <th>Date</th>\n",
       "      <th>Inflation Rate</th>\n",
       "    </tr>\n",
       "  </thead>\n",
       "  <tbody>\n",
       "    <tr>\n",
       "      <th>12</th>\n",
       "      <td>Brazil</td>\n",
       "      <td>Brazilian Real</td>\n",
       "      <td>BRL</td>\n",
       "      <td>2014-01</td>\n",
       "      <td>6.41</td>\n",
       "    </tr>\n",
       "    <tr>\n",
       "      <th>13</th>\n",
       "      <td>Brazil</td>\n",
       "      <td>Brazilian Real</td>\n",
       "      <td>BRL</td>\n",
       "      <td>2014-02</td>\n",
       "      <td>6.41</td>\n",
       "    </tr>\n",
       "    <tr>\n",
       "      <th>14</th>\n",
       "      <td>Brazil</td>\n",
       "      <td>Brazilian Real</td>\n",
       "      <td>BRL</td>\n",
       "      <td>2014-03</td>\n",
       "      <td>6.41</td>\n",
       "    </tr>\n",
       "    <tr>\n",
       "      <th>15</th>\n",
       "      <td>Brazil</td>\n",
       "      <td>Brazilian Real</td>\n",
       "      <td>BRL</td>\n",
       "      <td>2014-04</td>\n",
       "      <td>6.41</td>\n",
       "    </tr>\n",
       "    <tr>\n",
       "      <th>16</th>\n",
       "      <td>Brazil</td>\n",
       "      <td>Brazilian Real</td>\n",
       "      <td>BRL</td>\n",
       "      <td>2014-05</td>\n",
       "      <td>6.41</td>\n",
       "    </tr>\n",
       "    <tr>\n",
       "      <th>...</th>\n",
       "      <td>...</td>\n",
       "      <td>...</td>\n",
       "      <td>...</td>\n",
       "      <td>...</td>\n",
       "      <td>...</td>\n",
       "    </tr>\n",
       "    <tr>\n",
       "      <th>787</th>\n",
       "      <td>Ukraine</td>\n",
       "      <td>Ukrainian Hryvnia</td>\n",
       "      <td>UAH</td>\n",
       "      <td>2019-08</td>\n",
       "      <td>4.05</td>\n",
       "    </tr>\n",
       "    <tr>\n",
       "      <th>788</th>\n",
       "      <td>Ukraine</td>\n",
       "      <td>Ukrainian Hryvnia</td>\n",
       "      <td>UAH</td>\n",
       "      <td>2019-09</td>\n",
       "      <td>4.05</td>\n",
       "    </tr>\n",
       "    <tr>\n",
       "      <th>789</th>\n",
       "      <td>Ukraine</td>\n",
       "      <td>Ukrainian Hryvnia</td>\n",
       "      <td>UAH</td>\n",
       "      <td>2019-10</td>\n",
       "      <td>4.05</td>\n",
       "    </tr>\n",
       "    <tr>\n",
       "      <th>790</th>\n",
       "      <td>Ukraine</td>\n",
       "      <td>Ukrainian Hryvnia</td>\n",
       "      <td>UAH</td>\n",
       "      <td>2019-11</td>\n",
       "      <td>4.05</td>\n",
       "    </tr>\n",
       "    <tr>\n",
       "      <th>791</th>\n",
       "      <td>Ukraine</td>\n",
       "      <td>Ukrainian Hryvnia</td>\n",
       "      <td>UAH</td>\n",
       "      <td>2019-12</td>\n",
       "      <td>4.05</td>\n",
       "    </tr>\n",
       "  </tbody>\n",
       "</table>\n",
       "<p>792 rows × 5 columns</p>\n",
       "</div>"
      ],
      "text/plain": [
       "     Country           Currency Currency Code     Date Inflation Rate\n",
       "12    Brazil     Brazilian Real           BRL  2014-01           6.41\n",
       "13    Brazil     Brazilian Real           BRL  2014-02           6.41\n",
       "14    Brazil     Brazilian Real           BRL  2014-03           6.41\n",
       "15    Brazil     Brazilian Real           BRL  2014-04           6.41\n",
       "16    Brazil     Brazilian Real           BRL  2014-05           6.41\n",
       "..       ...                ...           ...      ...            ...\n",
       "787  Ukraine  Ukrainian Hryvnia           UAH  2019-08           4.05\n",
       "788  Ukraine  Ukrainian Hryvnia           UAH  2019-09           4.05\n",
       "789  Ukraine  Ukrainian Hryvnia           UAH  2019-10           4.05\n",
       "790  Ukraine  Ukrainian Hryvnia           UAH  2019-11           4.05\n",
       "791  Ukraine  Ukrainian Hryvnia           UAH  2019-12           4.05\n",
       "\n",
       "[792 rows x 5 columns]"
      ]
     },
     "execution_count": 8,
     "metadata": {},
     "output_type": "execute_result"
    }
   ],
   "source": [
    "# sort dataframe by currency and year\n",
    "sorted_analysis = inflation_df.sort_values(by=[\"Currency Code\", \"Date\"])\n",
    "\n",
    "# write to CSV for plotting and display\n",
    "sorted_analysis.to_csv(infl_filename, index=False)\n",
    "sorted_analysis\n"
   ]
  },
  {
   "cell_type": "code",
   "execution_count": null,
   "metadata": {},
   "outputs": [],
   "source": []
  }
 ],
 "metadata": {
  "kernelspec": {
   "display_name": "Python 3",
   "language": "python",
   "name": "python3"
  },
  "language_info": {
   "codemirror_mode": {
    "name": "ipython",
    "version": 3
   },
   "file_extension": ".py",
   "mimetype": "text/x-python",
   "name": "python",
   "nbconvert_exporter": "python",
   "pygments_lexer": "ipython3",
   "version": "3.6.10"
  }
 },
 "nbformat": 4,
 "nbformat_minor": 4
}
