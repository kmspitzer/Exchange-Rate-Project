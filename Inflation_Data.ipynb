{
 "cells": [
  {
   "cell_type": "code",
   "execution_count": null,
   "metadata": {},
   "outputs": [],
   "source": [
    "#Inflation API"
   ]
  },
  {
   "cell_type": "code",
   "execution_count": null,
   "metadata": {},
   "outputs": [],
   "source": [
    "import matplotlib.pyplot as plt\n",
    "import pandas as pd\n",
    "import numpy as np\n",
    "import requests\n",
    "import os\n",
    "from pprint import pprint"
   ]
  },
  {
   "cell_type": "code",
   "execution_count": null,
   "metadata": {},
   "outputs": [],
   "source": [
    "countries = ['belarus', 'brazil','canada', 'european-union', 'eurozone', 'france', 'germany', 'greece', 'india', 'japan', 'kazakhstan', 'mexico', 'russia', 'spain', 'turkey', 'ukraine', 'united-kingdom', 'united-states']\n",
    "years = [2020,2019,2018,2017,2016,2015,2014]\n",
    "y = {}\n",
    "for a in range (2014,2021):\n",
    "    y[a] = []"
   ]
  },
  {
   "cell_type": "code",
   "execution_count": null,
   "metadata": {},
   "outputs": [],
   "source": [
    "for year in years:\n",
    "    for country in countries:\n",
    "        start_date = f\"{year}/1/1\"\n",
    "        end_date = f\"{year}/12/1\"\n",
    "        base_url = \"https://www.statbureau.org/calculate-inflation-rate-json\"\n",
    "        params = {'country': country, 'start': start_date, 'end': end_date}\n",
    "        response = requests.get(base_url,params).json()\n",
    "        y[year].append(response)"
   ]
  },
  {
   "cell_type": "code",
   "execution_count": null,
   "metadata": {},
   "outputs": [],
   "source": [
    "inflation = {\"Country\": countries, \"2020\": y[2020], \"2019\": y[2019], \"2018\": y[2018], \"2017\": y[2017], \"2016\":y[2016], \"2015\": y[2015], \"2014\": y[2014]}\n",
    "inflation_df = pd.DataFrame(inflation)\n",
    "print(inflation_df)"
   ]
  },
  {
   "cell_type": "code",
   "execution_count": null,
   "metadata": {},
   "outputs": [],
   "source": [
    "#inflation_df.to_csv(r\"c:\\Users\\ferfl\\OneDrive\\Desktop\\Data Science Bootcamp\\inflation_rate.csv\",index=False)"
   ]
  }
 ],
 "metadata": {
  "kernelspec": {
   "display_name": "Python 3",
   "language": "python",
   "name": "python3"
  },
  "language_info": {
   "codemirror_mode": {
    "name": "ipython",
    "version": 3
   },
   "file_extension": ".py",
   "mimetype": "text/x-python",
   "name": "python",
   "nbconvert_exporter": "python",
   "pygments_lexer": "ipython3",
   "version": "3.8.3"
  }
 },
 "nbformat": 4,
 "nbformat_minor": 4
}
