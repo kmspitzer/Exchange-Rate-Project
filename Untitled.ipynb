{
 "cells": [
  {
   "cell_type": "code",
   "execution_count": null,
   "metadata": {},
   "outputs": [],
   "source": [
    "import time\n",
    "import pycountry\n",
    "import requests\n",
    "import json\n",
    "import pandas as pd\n",
    "from config import base_currency\n",
    "from config import comparison_currencies\n",
    "from api_keys import curr_exchange_api\n",
    "import numpy as np\n",
    "from pprint import pprint\n",
    "from config import countries\n",
    "\n",
    "\n",
    "currency = []\n",
    "date = []\n",
    "open_rate = []\n",
    "close_rate = []"
   ]
  },
  {
   "cell_type": "code",
   "execution_count": null,
   "metadata": {},
   "outputs": [],
   "source": [
    "for from_currency in comparison_currencies:\n",
    "\n",
    "    url = f\"https://www.alphavantage.co/query?function=FX_MONTHLY&from_symbol={from_currency}&to_symbol={base_currency}&apikey=curr_exchange_api\"\n",
    "    try:\n",
    "        response = requests.get(url).json()\n",
    "    \n",
    "        for record_date in response[\"Time Series FX (Monthly)\"]:\n",
    "            currency.append(from_currency)\n",
    "            date.append(record_date)\n",
    "            open_rate.append(response[\"Time Series FX (Monthly)\"][record_date][\"1. open\"])\n",
    "            close_rate.append(response[\"Time Series FX (Monthly)\"][record_date][\"4. close\"])\n",
    "\n",
    "    except:\n",
    "        print(f\"missing data: {from_currency} API: {curr_exchange_api}\")\n",
    "        print(json.dumps(response, indent=4))\n",
    "        \n",
    "    time.sleep(60)"
   ]
  },
  {
   "cell_type": "code",
   "execution_count": null,
   "metadata": {},
   "outputs": [],
   "source": [
    "exchange_data = pd.DataFrame({\"currency\": currency, \"end_date\": date, \"open rate\": open_rate, \"close rate\": close_rate})\n",
    "exchange_data.head(30)\n",
    "\n",
    "exchange_data.to_csv(\"output_file.csv\")"
   ]
  },
  {
   "cell_type": "code",
   "execution_count": null,
   "metadata": {},
   "outputs": [],
   "source": [
    "exchange_by_country = exchange_data.groupby(\"currency\").count()\n",
    "exchange_by_country.to_csv(\"xc_bycountry.csv\")"
   ]
  },
  {
   "cell_type": "code",
   "execution_count": null,
   "metadata": {},
   "outputs": [],
   "source": [
    "exchange_by_date = exchange_data.groupby(\"end_date\").count()\n",
    "exchange_by_date.to_csv(\"xc_bydate.csv\")"
   ]
  },
  {
   "cell_type": "code",
   "execution_count": null,
   "metadata": {},
   "outputs": [],
   "source": [
    "analysis_data = exchange_data.loc[exchange_data[\"end_date\"] >= \"2014-12-31\"]"
   ]
  },
  {
   "cell_type": "code",
   "execution_count": null,
   "metadata": {},
   "outputs": [],
   "source": [
    "analysis_data.groupby(\"end_date\").count()"
   ]
  },
  {
   "cell_type": "code",
   "execution_count": null,
   "metadata": {},
   "outputs": [],
   "source": []
  }
 ],
 "metadata": {
  "kernelspec": {
   "display_name": "Python 3",
   "language": "python",
   "name": "python3"
  },
  "language_info": {
   "codemirror_mode": {
    "name": "ipython",
    "version": 3
   },
   "file_extension": ".py",
   "mimetype": "text/x-python",
   "name": "python",
   "nbconvert_exporter": "python",
   "pygments_lexer": "ipython3",
   "version": "3.8.3"
  }
 },
 "nbformat": 4,
 "nbformat_minor": 4
}
